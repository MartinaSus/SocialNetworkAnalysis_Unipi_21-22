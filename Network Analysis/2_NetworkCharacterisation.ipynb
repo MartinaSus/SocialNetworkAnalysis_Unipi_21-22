{
 "cells": [
  {
   "cell_type": "code",
   "execution_count": 7,
   "metadata": {
    "id": "T0CrQdW4NBAX"
   },
   "outputs": [],
   "source": [
    "#import seaborn as sns\n",
    "import os\n",
    "import json\n",
    "import pandas as pd\n",
    "import numpy as np\n",
    "import matplotlib.pyplot as plt\n",
    "import networkx as nx\n",
    "import warnings\n",
    "import powerlaw\n",
    "import matplotlib.colors as mcolors\n",
    "from operator import itemgetter\n",
    "from collections import Counter\n",
    "warnings.filterwarnings('ignore')\n"
   ]
  },
  {
   "cell_type": "code",
   "execution_count": 8,
   "metadata": {
    "id": "YvJxeAUxNUcF"
   },
   "outputs": [],
   "source": [
    "#upload dataset\n",
    "g = nx.read_gexf(\"../../data_collection/data/RW_Graphs/SCC_weighted_graph.gexf\")"
   ]
  },
  {
   "cell_type": "code",
   "execution_count": 9,
   "metadata": {},
   "outputs": [],
   "source": [
    "g_dir = nx.read_gexf(\"../../data_collection/data/RW_Graphs/SCC_weighted_graph_di.gexf\")"
   ]
  },
  {
   "cell_type": "code",
   "execution_count": 10,
   "metadata": {},
   "outputs": [],
   "source": [
    "g_undir = nx.read_gexf(\"../../data_collection/data/RW_Graphs/SCC_weighted_graph_un.gexf\")"
   ]
  },
  {
   "cell_type": "code",
   "execution_count": 11,
   "metadata": {
    "id": "ISuRhDV0N596"
   },
   "outputs": [],
   "source": [
    "#remove self-loops, aka people answering to themselves\n",
    "g.remove_edges_from(nx.selfloop_edges(g))\n",
    "g_dir.remove_edges_from(nx.selfloop_edges(g_dir))\n",
    "g_undir.remove_edges_from(nx.selfloop_edges(g_undir))"
   ]
  },
  {
   "cell_type": "code",
   "execution_count": 12,
   "metadata": {
    "id": "gbxVnFsZO8Ko"
   },
   "outputs": [],
   "source": [
    "#build real world (rw) and watts-strogatz (ws) networks\n",
    "rw=g\n",
    "rw_dir=g_dir\n",
    "ws = nx.watts_strogatz_graph(46978, k=4, p=0.8, seed = 42) \n",
    "#the number of k and p is chosen so that the number of links is similar to the rw network"
   ]
  },
  {
   "cell_type": "code",
   "execution_count": 13,
   "metadata": {
    "id": "bQJ6a5bbOGri"
   },
   "outputs": [],
   "source": [
    "er = nx.erdos_renyi_graph(46978, 0.0000787, directed = False, seed = 42) #similar as above, but for random graph"
   ]
  },
  {
   "cell_type": "code",
   "execution_count": 14,
   "metadata": {
    "id": "0ltHqGek6pWu"
   },
   "outputs": [],
   "source": [
    "nx.write_gexf(er, \"../../data_collection/data/Synthetic_Graphs/ER.gexf\") #save graphs"
   ]
  },
  {
   "cell_type": "code",
   "execution_count": 15,
   "metadata": {
    "id": "3_Qq_1007xc8"
   },
   "outputs": [],
   "source": [
    "ba = nx.barabasi_albert_graph(46978, 2, seed = 42)"
   ]
  },
  {
   "cell_type": "code",
   "execution_count": 16,
   "metadata": {
    "id": "DT5FPkvA8QRv"
   },
   "outputs": [],
   "source": [
    "nx.write_gexf(ba, \"../../data_collection/data/Synthetic_Graphs/BA.gexf\")"
   ]
  },
  {
   "cell_type": "code",
   "execution_count": 17,
   "metadata": {
    "id": "I3oHvR2EBOI9"
   },
   "outputs": [],
   "source": [
    "nx.write_gexf(ws, \"../../data_collection/data/Synthetic_Graphs/WS.gexf\")"
   ]
  },
  {
   "cell_type": "code",
   "execution_count": 18,
   "metadata": {
    "id": "RnFJHp548VKu"
   },
   "outputs": [],
   "source": [
    "sequence = [i[1] for i in rw.degree()] #define and create a configuration model graph\n",
    "cm = nx.configuration_model(sequence)"
   ]
  },
  {
   "cell_type": "code",
   "execution_count": 19,
   "metadata": {
    "id": "bW4jmxOd8W88"
   },
   "outputs": [],
   "source": [
    "nx.write_gexf(cm, \"../../data_collection/data/Synthetic_Graphs/CM.gexf\")"
   ]
  },
  {
   "cell_type": "code",
   "execution_count": 20,
   "metadata": {
    "id": "vK-sesVG8bWR"
   },
   "outputs": [],
   "source": [
    "def find_hubs(G, degree_threshold):\n",
    "    '''Function for extracting hubs and not hubs from the network'''\n",
    "    hubs = []\n",
    "    notHubs = []\n",
    "    for i in G:\n",
    "        if G.degree(i) >= degree_threshold:\n",
    "            hubs.append(i)\n",
    "        else:\n",
    "            notHubs.append(i)\n",
    "    print(len(hubs))\n",
    "    return hubs, notHubs\n",
    "\n",
    "def print_network_info(g):\n",
    "    '''Function to print info about the network'''\n",
    "    n_nodes = g.number_of_nodes()\n",
    "    n_edges = g.number_of_edges()\n",
    "    print (\"Number of nodes: \", n_nodes)\n",
    "    print (\"Number of edges: \", n_edges)\n",
    "    print (\"Number of self-loop: \", nx.number_of_selfloops(g))\n",
    "    print(\"Is directed graph: \", g.is_directed())\n",
    "    l_max = ((n_nodes) * (n_nodes - 1)) / 2\n",
    "    print(\"LMAX: \", l_max)\n",
    "    avg_degree = (2*n_edges)/n_nodes\n",
    "   # print(\"clustering coeff \", clust_coeff_density_info(g))\n",
    "    print(\"Average degree: \", avg_degree)\n",
    "  #  print(\"Shortest path \", nx.shortest_path_length(g, source = 0))\n",
    "\n",
    "\n",
    "def clust_coeff_density_info(g):\n",
    "    print(\"Average clustering coeff: \", nx.average_clustering(g))\n",
    "    \n",
    "    \n",
    "def plot_dist(G):\n",
    "    M = nx.to_scipy_sparse_matrix(G)\n",
    "    xmin = min([d[1] for d in G.degree()])\n",
    "    indegrees = M.sum(0).A[0]\n",
    "    degree = np.bincount(indegrees)\n",
    "    fit = powerlaw.Fit(np.array(degree)+1, fit_method='KS')#, xmin=xmin, xmax=max(degree)-xmin,discrete=True)\n",
    "    \n",
    "    \n",
    "    fig = plt.figure(figsize=(16, 6)) \n",
    "    \"\"\" Plot Distribution \"\"\"\n",
    "    plt.subplot(1, 3, 1)\n",
    "    plt.plot(range(len(degree)),degree,'b.')   \n",
    "    plt.loglog()\n",
    "    plt.xlim((min(degree), max(degree)))\n",
    "    plt.xlabel('Degree')\n",
    "    plt.ylabel('P(k)')\n",
    "\n",
    "\n",
    "    \"\"\" Plot CDF \"\"\"\n",
    "    plt.subplot(1, 3, 2)\n",
    "    fit.plot_cdf()\n",
    "    plt.xlabel(\"Degree\")\n",
    "    plt.ylabel('CDF')\n",
    "\n",
    "    \"\"\" Plot CCDF \"\"\"\n",
    "    plt.subplot(1, 3, 3)\n",
    "    fit.plot_ccdf()\n",
    "    plt.ylabel('CCDF')\n",
    "    plt.xlabel('Degree')\n",
    "    plt.tight_layout()\n",
    "    plt.show()\n",
    "    \n",
    "\n",
    "    \n",
    "def draw_graph(g):\n",
    "    plt.figure(figsize=(17,16))\n",
    "    pos = nx.spring_layout(g, k =5)\n",
    "    M = g.number_of_edges()\n",
    "    edge_colors = range(2, M + 2)\n",
    "    nodes = nx.draw_networkx_nodes(g, pos,node_size=300, node_color=\"#AAAAFF\")\n",
    "    edges = nx.draw_networkx_edges(g,pos,arrowstyle=\"->\", arrowsize=8,  \n",
    "                                   edge_color=edge_colors,\n",
    "                                   edge_cmap='tab10', width = 1)\n",
    "    nx.draw_networkx_labels(g, pos, font_size=20, font_color=\"black\")\n",
    "    plt.tight_layout()\n",
    "    plt.show()\n",
    "    \n",
    "    \n",
    "def degree_dist_plot(graphs):\n",
    "    fig = plt.figure(figsize=(16,8))\n",
    "    labels = []\n",
    "    for i in graphs:\n",
    "        if i[0].is_directed():\n",
    "            degrees = i[0].in_degree() # dictionary node:degree\n",
    "        else:\n",
    "            degrees = i[0].degree() # dictionary node:degree\n",
    "        values = sorted(set([v for k, v in degrees]))\n",
    "        hist = [[v for k, v in degrees].count(x) for x in values]\n",
    "        labels.append(i[1])\n",
    "        if(i[1] == \"Real World\"):\n",
    "            plt.loglog(values, hist, 'o',linestyle='-.',markersize='4') # in-degree\n",
    "        else:\n",
    "            plt.loglog(values, hist, 'o',linestyle='-',markersize='3') # in-degree\n",
    "    fontsize = 15\n",
    "    \n",
    "    plt.yticks(fontsize=fontsize, alpha=1)\n",
    "    plt.xlabel(\"Degree\", fontsize=fontsize)\n",
    "    plt.ylabel(\"Number of nodes\", fontsize=fontsize)\n",
    "    plt.title(\"Degree Distribution\", fontsize=fontsize)\n",
    "    plt.legend(labels, fontsize=fontsize)\n",
    "    plt.grid(axis='both', alpha=.3)\n",
    "    plt.xlim([0, 2*10**2])\n",
    "    plt.savefig('degree_distribution_comparison.pdf',format='pdf')\n",
    "    plt.show()"
   ]
  },
  {
   "cell_type": "code",
   "execution_count": 21,
   "metadata": {
    "id": "-FbjhYhn8foI"
   },
   "outputs": [],
   "source": [
    "network_list = [ws, er, ba, rw, cm]\n",
    "network_names = [\"Watts Strogats\", \"Erdos-Renyi\", \"Barabasi Albert\", \"Real World\", \"Configuration Model\"]"
   ]
  },
  {
   "cell_type": "markdown",
   "metadata": {
    "id": "7yNwBi_rILZk"
   },
   "source": [
    "# Degree Distribution"
   ]
  },
  {
   "cell_type": "code",
   "execution_count": 22,
   "metadata": {
    "colab": {
     "base_uri": "https://localhost:8080/"
    },
    "id": "Xyd6kdQu8hvu",
    "outputId": "283bee0a-cf7e-4776-84bf-16c6fb91bec8"
   },
   "outputs": [
    {
     "name": "stdout",
     "output_type": "stream",
     "text": [
      "\n",
      "Model: Watts Strogats\n",
      "----------------------------\n",
      "Number of nodes:  46978\n",
      "Number of edges:  93956\n",
      "Number of self-loop:  0\n",
      "Is directed graph:  False\n",
      "LMAX:  1103442753.0\n",
      "Average degree:  4.0\n",
      "\n",
      "Model: Erdos-Renyi\n",
      "----------------------------\n",
      "Number of nodes:  46978\n",
      "Number of edges:  86768\n",
      "Number of self-loop:  0\n",
      "Is directed graph:  False\n",
      "LMAX:  1103442753.0\n",
      "Average degree:  3.6939844182383244\n",
      "\n",
      "Model: Barabasi Albert\n",
      "----------------------------\n",
      "Number of nodes:  46978\n",
      "Number of edges:  93952\n",
      "Number of self-loop:  0\n",
      "Is directed graph:  False\n",
      "LMAX:  1103442753.0\n",
      "Average degree:  3.9998297075226703\n",
      "\n",
      "Model: Real World\n",
      "----------------------------\n",
      "Number of nodes:  46978\n",
      "Number of edges:  88029\n",
      "Number of self-loop:  0\n",
      "Is directed graph:  False\n",
      "LMAX:  1103442753.0\n",
      "Average degree:  3.747669121716548\n",
      "\n",
      "Model: Configuration Model\n",
      "----------------------------\n",
      "Number of nodes:  46978\n",
      "Number of edges:  88029\n",
      "Number of self-loop:  1051\n",
      "Is directed graph:  False\n",
      "LMAX:  1103442753.0\n",
      "Average degree:  3.747669121716548\n"
     ]
    }
   ],
   "source": [
    "for net, net_name in zip(network_list, network_names):\n",
    "    print(f\"\\nModel: {net_name}\\n----------------------------\")\n",
    "    print_network_info(net)\n"
   ]
  },
  {
   "cell_type": "code",
   "execution_count": 23,
   "metadata": {},
   "outputs": [
    {
     "name": "stdout",
     "output_type": "stream",
     "text": [
      "Number of nodes:  46978\n",
      "Number of edges:  88029\n",
      "Number of self-loop:  0\n",
      "Is directed graph:  False\n",
      "LMAX:  1103442753.0\n",
      "Average degree:  3.747669121716548\n"
     ]
    }
   ],
   "source": [
    "print_network_info(g)"
   ]
  },
  {
   "cell_type": "code",
   "execution_count": 24,
   "metadata": {
    "colab": {
     "base_uri": "https://localhost:8080/",
     "height": 476
    },
    "id": "tgLsTNyg8nBi",
    "outputId": "5e7ee598-fcbf-402f-f78e-026b0d3f0f3e"
   },
   "outputs": [
    {
     "data": {
      "image/png": "[encoded data removed]",
      "text/plain": [
       "<Figure size 1152x576 with 1 Axes>"
      ]
     },
     "metadata": {
      "needs_background": "light"
     },
     "output_type": "display_data"
    }
   ],
   "source": [
    "graphs = [(rw, \"Real World\"), (ba, \"Barabási–Albert\"), (er, \"Erdős-Rényi\"), (ws, \"Watts Strogatz\")]\n",
    "degree_dist_plot(graphs)"
   ]
  },
  {
   "cell_type": "markdown",
   "metadata": {
    "id": "-05247aYIPvA"
   },
   "source": [
    "# Connected Components\n"
   ]
  },
  {
   "cell_type": "code",
   "execution_count": 25,
   "metadata": {
    "colab": {
     "base_uri": "https://localhost:8080/"
    },
    "id": "p1ZtByN4ITkK",
    "outputId": "5a9b0963-237e-4aa5-bbfe-9846dfb42710"
   },
   "outputs": [
    {
     "name": "stdout",
     "output_type": "stream",
     "text": [
      "Number of connected components (RW):  1\n"
     ]
    }
   ],
   "source": [
    "comps = list(nx.connected_components(rw.to_undirected()))\n",
    "print(\"Number of connected components (RW): \", len(comps))"
   ]
  },
  {
   "cell_type": "code",
   "execution_count": 26,
   "metadata": {
    "colab": {
     "base_uri": "https://localhost:8080/"
    },
    "id": "_iBGOzB6IilC",
    "outputId": "64a43725-9ab2-4c76-ac0b-8df924665ffe"
   },
   "outputs": [
    {
     "name": "stdout",
     "output_type": "stream",
     "text": [
      "Number of Connected Components (ER):  1214\n"
     ]
    }
   ],
   "source": [
    "comps = list(nx.connected_components(er.to_undirected()))\n",
    "print(\"Number of Connected Components (ER): \", len(comps))"
   ]
  },
  {
   "cell_type": "code",
   "execution_count": 27,
   "metadata": {
    "colab": {
     "base_uri": "https://localhost:8080/"
    },
    "id": "TjGVX5D2Ik2v",
    "outputId": "8b6a8fd4-2c42-4f48-f81a-9b351bfe257b"
   },
   "outputs": [
    {
     "name": "stdout",
     "output_type": "stream",
     "text": [
      "Number of Connected Components (WS):  1\n"
     ]
    }
   ],
   "source": [
    "comps = list(nx.connected_components(ws))\n",
    "print(\"Number of Connected Components (WS): \", len(comps))"
   ]
  },
  {
   "cell_type": "code",
   "execution_count": 28,
   "metadata": {
    "colab": {
     "base_uri": "https://localhost:8080/"
    },
    "id": "m-sNsQasImq6",
    "outputId": "4be6ae0a-3678-487c-e592-f0b9d325a294"
   },
   "outputs": [
    {
     "name": "stdout",
     "output_type": "stream",
     "text": [
      "Number of Connected Components (BA):  1\n"
     ]
    }
   ],
   "source": [
    "comps = list(nx.connected_components(ba))\n",
    "print(\"Number of Connected Components (BA): \", len(comps))"
   ]
  },
  {
   "cell_type": "code",
   "execution_count": 29,
   "metadata": {
    "colab": {
     "base_uri": "https://localhost:8080/"
    },
    "id": "Y6Nq17OVIoto",
    "outputId": "186e608b-1f70-4355-882a-d7c57e5eeae6"
   },
   "outputs": [
    {
     "name": "stdout",
     "output_type": "stream",
     "text": [
      "Number of Connected Components (CM):  2470\n"
     ]
    }
   ],
   "source": [
    "comps = list(nx.connected_components(cm))\n",
    "print(\"Number of Connected Components (CM): \", len(comps))\n"
   ]
  },
  {
   "cell_type": "code",
   "execution_count": 30,
   "metadata": {
    "colab": {
     "base_uri": "https://localhost:8080/"
    },
    "id": "zVF1AMJSJICo",
    "outputId": "8947fd55-a51a-4e07-e2d9-758a37c60a2b"
   },
   "outputs": [
    {
     "name": "stdout",
     "output_type": "stream",
     "text": [
      "Number of connected components (ER):  1\n",
      "Size of the biggest component (ER):  46978\n"
     ]
    }
   ],
   "source": [
    "ER_dir = nx.MultiGraph(rw)\n",
    "ER_components = list(nx.connected_components(ER_dir))\n",
    "print('Number of connected components (ER): ', len(ER_components))\n",
    "ER_biggest_component = len(ER_components[0])\n",
    "print('Size of the biggest component (ER): ', ER_biggest_component)\n"
   ]
  },
  {
   "cell_type": "code",
   "execution_count": 31,
   "metadata": {
    "colab": {
     "base_uri": "https://localhost:8080/"
    },
    "id": "5qUJt7U9JKDs",
    "outputId": "dcc67790-d14b-4304-dcf6-df6c06249929"
   },
   "outputs": [
    {
     "name": "stdout",
     "output_type": "stream",
     "text": [
      "Number of connected components (ER):  1\n",
      "Size of the biggest component (ER):  46978\n"
     ]
    }
   ],
   "source": [
    "BA_dir = nx.MultiGraph(ba)\n",
    "BA_components = list(nx.connected_components(BA_dir))\n",
    "print('Number of connected components (ER): ', len(BA_components))\n",
    "BA_biggest_component = len(BA_components[0])\n",
    "print('Size of the biggest component (ER): ', BA_biggest_component)\n"
   ]
  },
  {
   "cell_type": "code",
   "execution_count": 32,
   "metadata": {
    "colab": {
     "base_uri": "https://localhost:8080/"
    },
    "id": "mfZO6l__JMJP",
    "outputId": "5f7c6895-5693-4c4f-fbd3-3bb14d0ba327"
   },
   "outputs": [
    {
     "name": "stdout",
     "output_type": "stream",
     "text": [
      "Number of connected components (ER):  1\n",
      "Size of the biggest component (ER):  46978\n"
     ]
    }
   ],
   "source": [
    "WS_dir = nx.MultiGraph(ws)\n",
    "WS_components = list(nx.connected_components(WS_dir))\n",
    "print('Number of connected components (ER): ', len(WS_components))\n",
    "WS_biggest_component = len(WS_components[0])\n",
    "print('Size of the biggest component (ER): ', WS_biggest_component)\n"
   ]
  },
  {
   "cell_type": "code",
   "execution_count": 33,
   "metadata": {
    "colab": {
     "base_uri": "https://localhost:8080/"
    },
    "id": "keCsYIqaIrHN",
    "outputId": "3402fe4b-eacb-40a5-f5dd-d1b22206f176"
   },
   "outputs": [
    {
     "name": "stdout",
     "output_type": "stream",
     "text": [
      "Number weakly connected components (RW):  1\n",
      "Number strongly connected components (RW):  1\n"
     ]
    }
   ],
   "source": [
    "#print('Number weakly connected components (ER): ', str(nx.number_weakly_connected_components(ER_dir)))\n",
    "#print('Number strongly connected components (ER): ', str(nx.number_strongly_connected_components(ER_dir)))\n",
    "print('Number weakly connected components (RW): ', str(nx.number_weakly_connected_components(rw_dir)))\n",
    "print('Number strongly connected components (RW): ', str(nx.number_strongly_connected_components(rw_dir)))"
   ]
  },
  {
   "cell_type": "markdown",
   "metadata": {
    "id": "-RsR_1fCJPAp"
   },
   "source": [
    "# Clustering Coefficient"
   ]
  },
  {
   "cell_type": "code",
   "execution_count": 34,
   "metadata": {
    "id": "uPwNNTOPJQ0S"
   },
   "outputs": [],
   "source": [
    "def clust_coeff_density_info(g):\n",
    "    print(\"Average clustering coeff: \", nx.average_clustering(g))\n",
    "    print(\"Density': \", nx.density(g))"
   ]
  },
  {
   "cell_type": "code",
   "execution_count": 35,
   "metadata": {
    "colab": {
     "base_uri": "https://localhost:8080/"
    },
    "id": "tEhinkhMJUdr",
    "outputId": "663237bd-f01b-4f0c-affd-0a9fa8e48294"
   },
   "outputs": [
    {
     "name": "stdout",
     "output_type": "stream",
     "text": [
      "Average clustering coeff:  0.07778606428202861\n",
      "Density':  7.977668053976517e-05\n",
      "RW:  \n",
      "\t None \n",
      "\n",
      "Average clustering coeff:  0.004408595482076653\n",
      "Density':  8.514805117397876e-05\n",
      "WS:  \n",
      "\t None \n",
      "\n",
      "Average clustering coeff:  5.9348955640836946e-05\n",
      "Density':  7.863389357000925e-05\n",
      "ER:  \n",
      "\t None \n",
      "\n",
      "Average clustering coeff:  0.0014225737738202794\n",
      "Density':  8.51444261558352e-05\n",
      "BA:  \n",
      "\t None \n",
      "\n",
      "Average clustering coeff:  0.07088670333752317\n",
      "Density':  6.714077354586604e-05\n",
      "CM:  \n",
      "\t None\n"
     ]
    }
   ],
   "source": [
    "print(\"RW:  \\n\\t\", clust_coeff_density_info(rw), \"\\n\")\n",
    "print(\"WS:  \\n\\t\", clust_coeff_density_info(ws), \"\\n\")\n",
    "print(\"ER:  \\n\\t\", clust_coeff_density_info(er), \"\\n\")\n",
    "print(\"BA:  \\n\\t\", clust_coeff_density_info(ba), \"\\n\")\n",
    "cm_g = nx.Graph(cm)\n",
    "print(\"CM:  \\n\\t\", clust_coeff_density_info(cm_g))\n"
   ]
  },
  {
   "cell_type": "markdown",
   "metadata": {
    "id": "3fyhlYmIJXFW"
   },
   "source": [
    "# Path Analysis"
   ]
  },
  {
   "cell_type": "code",
   "execution_count": 36,
   "metadata": {
    "id": "ILMmxJzcJYgB"
   },
   "outputs": [],
   "source": [
    "def sample_data(g): \n",
    "    degree_calc = {node: val for (node, val) in g.degree()} #calculate degree for every node\n",
    "    degree = dict(sorted(degree_calc.items(), key=lambda item: item[1], reverse = True))\n",
    "    sample = []\n",
    "    for k, v in degree.items():\n",
    "        if(v >=  1):\n",
    "            sample.append(k) \n",
    "    g = nx.to_undirected(g)\n",
    "    sample_data = g.subgraph(sample)\n",
    "    return sample_data\n",
    "\n"
   ]
  },
  {
   "cell_type": "code",
   "execution_count": 37,
   "metadata": {
    "colab": {
     "base_uri": "https://localhost:8080/",
     "height": 252
    },
    "id": "EQVhAWxqJa6T",
    "outputId": "0e4d5af0-2f4a-446c-9f90-13d4d11612c9"
   },
   "outputs": [],
   "source": [
    "#keep only giant component\n",
    "Gcc = sorted(nx.connected_components(rw.to_undirected()), key=len, reverse=True)\n",
    "rw.remove_nodes_from([n for n in rw if n not in set(Gcc[0])])"
   ]
  },
  {
   "cell_type": "code",
   "execution_count": 38,
   "metadata": {
    "id": "DO0pimOuJeMF"
   },
   "outputs": [],
   "source": [
    "from random import sample\n",
    "\n",
    "#build a new graph with sampled nodes. This process is necessary because the path analysis algorithm \n",
    "#are too slow on the full-size network\n",
    "\n",
    "G = rw.to_undirected().copy()\n",
    "conn_comps = sorted(nx.connected_components(G), key=len, reverse=True) \n",
    "G.remove_nodes_from([n for n in G if n not in set(conn_comps[0])])\n",
    "\n",
    "sampled_nodes = sample(G.nodes, 20000)  \n",
    "G.remove_nodes_from([n for n in G if n not in set(sampled_nodes)])\n",
    "\n",
    "#as above, we keep only the giant component of the sampled nodes\n",
    "\n",
    "conn_comps_sample = sorted(nx.connected_components(G), key=len, reverse=True)\n",
    "G.remove_nodes_from([n for n in G if n not in set(conn_comps_sample[0])])"
   ]
  },
  {
   "cell_type": "code",
   "execution_count": 39,
   "metadata": {
    "colab": {
     "base_uri": "https://localhost:8080/",
     "height": 398
    },
    "id": "ymatbxmpJgLJ",
    "outputId": "14db284b-5c6e-4c4e-9c8d-8ebf37c755d2"
   },
   "outputs": [
    {
     "name": "stdout",
     "output_type": "stream",
     "text": [
      "Number of Connected Components (g):  1\n",
      "Average shortest path (g): 3.634225678894813\n"
     ]
    }
   ],
   "source": [
    "#Real World\n",
    "comps = list(nx.connected_components(G))\n",
    "print(\"Number of Connected Components (g): \", len(comps))\n",
    "\n",
    "#max([max(j.values()) for (i,j) in nx.shortest_path_length(g)])\n",
    "print(\"Average shortest path (g):\", nx.average_shortest_path_length(G.subgraph(comps[0])))\n",
    "#print(\"Average shortest path weighted (g):\", nx.average_shortest_path_length(G.subgraph(comps[0])))"
   ]
  },
  {
   "cell_type": "code",
   "execution_count": 40,
   "metadata": {
    "id": "l7Wnuy2uJj5A"
   },
   "outputs": [
    {
     "name": "stdout",
     "output_type": "stream",
     "text": [
      "Number of Connected Components (g):  6190\n",
      "Average shortest path (g): 32.39344129596942\n"
     ]
    }
   ],
   "source": [
    "import random\n",
    "\n",
    "#Erdos Renyi\n",
    "\n",
    "er = nx.to_undirected(er)\n",
    "\n",
    "sampled_nodes = random.sample(er.nodes, 15000)\n",
    "sampled_graph = er.subgraph(sampled_nodes)\n",
    "\n",
    "comps = list(nx.connected_components(sampled_graph))\n",
    "print(\"Number of Connected Components (g): \", len(comps))\n",
    "\n",
    "\n",
    "\n",
    "#max([max(j.values()) for (i,j) in nx.shortest_path_length(g)])\n",
    "print(\"Average shortest path (g):\", nx.average_shortest_path_length(sampled_graph.subgraph(comps[0])))\n",
    "#print(\"Average shortest path weighted (g):\", nx.average_shortest_path_length(er.subgraph(comps[0])))"
   ]
  },
  {
   "cell_type": "code",
   "execution_count": 41,
   "metadata": {
    "id": "3QidDcfdJnBj"
   },
   "outputs": [
    {
     "name": "stdout",
     "output_type": "stream",
     "text": [
      "Number of Connected Components (g):  6069\n",
      "Average shortest path (g): 9.418291120485232\n"
     ]
    }
   ],
   "source": [
    "#Barabasi Albert\n",
    "\n",
    "ba = nx.to_undirected(ba)\n",
    "\n",
    "sampled_nodes = random.sample(ba.nodes, 15000)\n",
    "sampled_graph = ba.subgraph(sampled_nodes)\n",
    "\n",
    "\n",
    "comps = list(nx.connected_components(sampled_graph))\n",
    "\n",
    "print(\"Number of Connected Components (g): \", len(comps))\n",
    "\n",
    "#max([max(j.values()) for (i,j) in nx.shortest_path_length(g)])\n",
    "print(\"Average shortest path (g):\", nx.average_shortest_path_length(sampled_graph.subgraph(comps[0])))\n",
    "\n",
    "#print(\"Average shortest path weighted (g):\", nx.average_shortest_path_length(ba.subgraph(comps[0])))"
   ]
  },
  {
   "cell_type": "code",
   "execution_count": 42,
   "metadata": {
    "id": "NKr4MdQxJpCG"
   },
   "outputs": [
    {
     "name": "stdout",
     "output_type": "stream",
     "text": [
      "Number of Connected Components (g):  9353\n",
      "Average shortest path (g): 3.986516436587448\n"
     ]
    }
   ],
   "source": [
    "#Configuration Model\n",
    "\n",
    "cm = nx.to_undirected(cm)\n",
    "\n",
    "sampled_nodes = random.sample(cm.nodes, 15000)\n",
    "sampled_graph = cm.subgraph(sampled_nodes)\n",
    "\n",
    "\n",
    "comps = list(nx.connected_components(sampled_graph))\n",
    "print(\"Number of Connected Components (g): \", len(comps))\n",
    "\n",
    "#max([max(j.values()) for (i,j) in nx.shortest_path_length(g)])\n",
    "print(\"Average shortest path (g):\", nx.average_shortest_path_length(sampled_graph.subgraph(comps[0])))\n",
    "#print(\"Average shortest path weighted (g):\", nx.average_shortest_path_length(cm.subgraph(comps[0])))"
   ]
  },
  {
   "cell_type": "code",
   "execution_count": 43,
   "metadata": {
    "id": "KMmqmduXJsJJ"
   },
   "outputs": [
    {
     "name": "stdout",
     "output_type": "stream",
     "text": [
      "Number of Connected Components (g):  5547\n",
      "Average shortest path (g): 1.3333333333333333\n"
     ]
    }
   ],
   "source": [
    "#Watts-Stogatz\n",
    "\n",
    "ws = nx.to_undirected(ws)\n",
    "\n",
    "sampled_nodes = random.sample(ws.nodes, 15000)\n",
    "sampled_graph = ws.subgraph(sampled_nodes)\n",
    "\n",
    "\n",
    "comps = list(nx.connected_components(sampled_graph))\n",
    "print(\"Number of Connected Components (g): \", len(comps))\n",
    "\n",
    "#max([max(j.values()) for (i,j) in nx.shortest_path_length(g)])\n",
    "print(\"Average shortest path (g):\", nx.average_shortest_path_length(sampled_graph.subgraph(comps[0])))\n",
    "#print(\"Average shortest path weighted (g):\", nx.average_shortest_path_length(ws.subgraph(comps[0])))"
   ]
  },
  {
   "cell_type": "markdown",
   "metadata": {
    "id": "1UcdafgCJ6iJ"
   },
   "source": [
    "# Grafo dati analisi"
   ]
  },
  {
   "cell_type": "code",
   "execution_count": 44,
   "metadata": {
    "id": "SA3f0TdjLgFD"
   },
   "outputs": [],
   "source": [
    "#g = nx.from_pandas_edgelist(df, source=\"source\", target = \"target\", create_using=nx.MultiDiGraph())\n",
    "g_cc = nx.Graph(g)\n"
   ]
  },
  {
   "cell_type": "code",
   "execution_count": 45,
   "metadata": {
    "colab": {
     "base_uri": "https://localhost:8080/",
     "height": 36
    },
    "id": "qem5wNglLxO6",
    "outputId": "6b0ab1e7-136a-421e-c08a-4cbd1b371d62"
   },
   "outputs": [
    {
     "data": {
      "text/plain": [
       "'Graph with 46978 nodes and 88029 edges'"
      ]
     },
     "execution_count": 45,
     "metadata": {},
     "output_type": "execute_result"
    }
   ],
   "source": [
    "nx.info(g)"
   ]
  },
  {
   "cell_type": "code",
   "execution_count": 46,
   "metadata": {
    "id": "_bl3-HgZLz1s"
   },
   "outputs": [],
   "source": [
    "#nx.write_gexf(g, \"grafoRIF.gexf\")"
   ]
  },
  {
   "cell_type": "code",
   "execution_count": 47,
   "metadata": {
    "id": "J8wzVTz2L50-"
   },
   "outputs": [],
   "source": [
    "def find_hubs(G, degree_threshold):\n",
    "    '''Function for extracting hubs and not hubs from the network'''\n",
    "    hubs = []\n",
    "    notHubs = []\n",
    "    for i in G:\n",
    "        if G.degree(i) >= degree_threshold:\n",
    "            hubs.append(i)\n",
    "        else:\n",
    "            notHubs.append(i)\n",
    "    print(len(hubs))\n",
    "    return hubs, notHubs\n",
    "\n",
    "def print_network_info(g):\n",
    "    '''Function to print info about the network'''\n",
    "    n_nodes = g.number_of_nodes()\n",
    "    n_edges = g.number_of_edges()\n",
    "    print (\"Number of nodes: \", n_nodes)\n",
    "    print (\"Number of edges: \", n_edges)\n",
    "    print (\"Number of self-loop: \", nx.number_of_selfloops(g))\n",
    "    print(\"Is directed graph: \", g.is_directed())\n",
    "    l_max = ((n_nodes) * (n_nodes - 1)) / 2\n",
    "    print(\"Max link number: \", l_max)\n",
    "    avg_degree = (2*n_edges)/n_nodes\n",
    "    print(\"Average degree: \", avg_degree)\n",
    "\n",
    "def plot_dist(G):\n",
    "    M = nx.to_scipy_sparse_matrix(G)\n",
    "    xmin = min([d[1] for d in G.degree()])\n",
    "    indegrees = M.sum(0).A[0]\n",
    "    degree = np.bincount(indegrees)\n",
    "    fit = powerlaw.Fit(np.array(degree)+1, fit_method='KS')#, xmin=xmin, xmax=max(degree)-xmin,discrete=True)\n",
    "    \n",
    "    \n",
    "    fig = plt.figure(figsize=(16, 6)) \n",
    "    \"\"\" Plot Distribution \"\"\"\n",
    "    plt.subplot(1, 3, 1)\n",
    "    plt.plot(range(len(degree)),degree,'b.')   \n",
    "    plt.loglog()\n",
    "    plt.xlim((min(degree), max(degree)))\n",
    "    plt.xlabel('Degree')\n",
    "    plt.ylabel('P(k)')\n",
    "\n",
    "\n",
    "    \"\"\" Plot CDF \"\"\"\n",
    "    plt.subplot(1, 3, 2)\n",
    "    fit.plot_cdf()\n",
    "    plt.xlabel(\"Degree\")\n",
    "    plt.ylabel('CDF')\n",
    "\n",
    "    \"\"\" Plot CCDF \"\"\"\n",
    "    plt.subplot(1, 3, 3)\n",
    "    fit.plot_ccdf()\n",
    "    plt.ylabel('CCDF')\n",
    "    plt.xlabel('Degree')\n",
    "    plt.tight_layout()\n",
    "    plt.show()\n",
    "    \n",
    "\n",
    "    \n",
    "def draw_graph(g):\n",
    "    plt.figure(figsize=(17,16))\n",
    "    pos = nx.spring_layout(g, k =5)\n",
    "    M = g.number_of_edges()\n",
    "    edge_colors = range(2, M + 2)\n",
    "    nodes = nx.draw_networkx_nodes(g, pos,node_size=300, node_color=\"#AAAAFF\")\n",
    "    edges = nx.draw_networkx_edges(g,pos,arrowstyle=\"->\", arrowsize=8,  \n",
    "                                   edge_color=edge_colors,\n",
    "                                   edge_cmap='tab10', width = 1)\n",
    "    nx.draw_networkx_labels(g, pos, font_size=20, font_color=\"black\")\n",
    "    plt.tight_layout()\n",
    "    plt.show()\n",
    "    "
   ]
  },
  {
   "cell_type": "code",
   "execution_count": 48,
   "metadata": {
    "colab": {
     "base_uri": "https://localhost:8080/"
    },
    "id": "QJ3G59k6MBhX",
    "outputId": "cb070352-8883-4363-d490-3a2fd7bcca57"
   },
   "outputs": [
    {
     "name": "stdout",
     "output_type": "stream",
     "text": [
      "Number of nodes:  46978\n",
      "Number of edges:  88029\n",
      "Number of self-loop:  0\n",
      "Is directed graph:  False\n",
      "Max link number:  1103442753.0\n",
      "Average degree:  3.747669121716548\n"
     ]
    }
   ],
   "source": [
    "#basic info of real world network\n",
    "print_network_info(g)"
   ]
  },
  {
   "cell_type": "code",
   "execution_count": 49,
   "metadata": {
    "colab": {
     "base_uri": "https://localhost:8080/"
    },
    "id": "OK1g2Y2wOXKR",
    "outputId": "1178b75c-5080-4002-9f09-eda028ef1ede"
   },
   "outputs": [
    {
     "name": "stdout",
     "output_type": "stream",
     "text": [
      "93\n"
     ]
    }
   ],
   "source": [
    "#print number of hubs of real world network\n",
    "hubs, notHubs = find_hubs(g, 70)\n"
   ]
  },
  {
   "cell_type": "code",
   "execution_count": 50,
   "metadata": {
    "colab": {
     "base_uri": "https://localhost:8080/"
    },
    "id": "MVANrbt1OaU5",
    "outputId": "bea426b2-73ad-4744-f6a2-23bbd7ad726d"
   },
   "outputs": [
    {
     "name": "stdout",
     "output_type": "stream",
     "text": [
      "Nodes acting as hubs\n",
      "----------------------\n",
      "AndreaMarano11\n",
      "giu33liana\n",
      "maurobiani\n",
      "fratotolo2\n",
      "brunieradino\n",
      "elio_vito\n",
      "nonsonpago1\n",
      "pemar2\n",
      "emmevilla\n",
      "paolo97745638\n"
     ]
    }
   ],
   "source": [
    "print(\"Nodes acting as hubs\\n----------------------\")\n",
    "for i,k in zip(hubs,range(0,10)):\n",
    "    print(i)"
   ]
  },
  {
   "cell_type": "code",
   "execution_count": 51,
   "metadata": {
    "id": "O6UKtJqJOz7T"
   },
   "outputs": [],
   "source": [
    "labels = {}    \n",
    "for node in g.nodes():\n",
    "    if node in hubs:\n",
    "        #set the node name as the key and the label as its value \n",
    "        labels[node] = node "
   ]
  },
  {
   "cell_type": "markdown",
   "metadata": {
    "id": "ODLvywWqO2DU"
   },
   "source": [
    "# Degree Distribution"
   ]
  },
  {
   "cell_type": "code",
   "execution_count": 52,
   "metadata": {
    "id": "F1YWjwrIO3T2"
   },
   "outputs": [],
   "source": [
    "degree = {node: val for (node, val) in g_undir.degree()}\n"
   ]
  },
  {
   "cell_type": "code",
   "execution_count": 53,
   "metadata": {
    "id": "r6mVrIHTO6D-"
   },
   "outputs": [],
   "source": [
    "degree = dict(sorted(degree.items(), key=lambda item: item[1], reverse = True))"
   ]
  },
  {
   "cell_type": "code",
   "execution_count": 54,
   "metadata": {
    "colab": {
     "base_uri": "https://localhost:8080/",
     "height": 299
    },
    "id": "bFhcEVssO8Co",
    "outputId": "b3dbf232-8f4a-4226-8b12-06abfdec74c7"
   },
   "outputs": [
    {
     "data": {
      "image/png": "[encoded data removed]",
      "text/plain": [
       "<Figure size 432x288 with 1 Axes>"
      ]
     },
     "metadata": {
      "needs_background": "light"
     },
     "output_type": "display_data"
    }
   ],
   "source": [
    "#plot deg distribution\n",
    "hist = nx.degree_histogram(g)\n",
    "    \n",
    "plt.plot(range(0, len(hist)), hist, \".\")\n",
    "plt.title(\"Degree Distribution\")\n",
    "plt.xlabel(\"Degree\")\n",
    "plt.ylabel(\"#Nodes\")\n",
    "plt.loglog()\n",
    "plt.savefig('degree_distribution.pdf',format='pdf')\n",
    "\n",
    "plt.show()"
   ]
  },
  {
   "cell_type": "code",
   "execution_count": 55,
   "metadata": {
    "colab": {
     "base_uri": "https://localhost:8080/",
     "height": 356
    },
    "id": "mkDoGzzAO-py",
    "outputId": "e3e6edca-9431-4953-93c6-fc7075b54fba"
   },
   "outputs": [
    {
     "ename": "TypeError",
     "evalue": "Cannot cast array data from dtype('float64') to dtype('int64') according to the rule 'safe'",
     "output_type": "error",
     "traceback": [
      "\u001b[0;31m---------------------------------------------------------------------------\u001b[0m",
      "\u001b[0;31mTypeError\u001b[0m                                 Traceback (most recent call last)",
      "Input \u001b[0;32mIn [55]\u001b[0m, in \u001b[0;36m<module>\u001b[0;34m\u001b[0m\n\u001b[0;32m----> 1\u001b[0m \u001b[43mplot_dist\u001b[49m\u001b[43m(\u001b[49m\u001b[43mg\u001b[49m\u001b[43m)\u001b[49m\n",
      "Input \u001b[0;32mIn [47]\u001b[0m, in \u001b[0;36mplot_dist\u001b[0;34m(G)\u001b[0m\n\u001b[1;32m     28\u001b[0m xmin \u001b[38;5;241m=\u001b[39m \u001b[38;5;28mmin\u001b[39m([d[\u001b[38;5;241m1\u001b[39m] \u001b[38;5;28;01mfor\u001b[39;00m d \u001b[38;5;129;01min\u001b[39;00m G\u001b[38;5;241m.\u001b[39mdegree()])\n\u001b[1;32m     29\u001b[0m indegrees \u001b[38;5;241m=\u001b[39m M\u001b[38;5;241m.\u001b[39msum(\u001b[38;5;241m0\u001b[39m)\u001b[38;5;241m.\u001b[39mA[\u001b[38;5;241m0\u001b[39m]\n\u001b[0;32m---> 30\u001b[0m degree \u001b[38;5;241m=\u001b[39m \u001b[43mnp\u001b[49m\u001b[38;5;241;43m.\u001b[39;49m\u001b[43mbincount\u001b[49m\u001b[43m(\u001b[49m\u001b[43mindegrees\u001b[49m\u001b[43m)\u001b[49m\n\u001b[1;32m     31\u001b[0m fit \u001b[38;5;241m=\u001b[39m powerlaw\u001b[38;5;241m.\u001b[39mFit(np\u001b[38;5;241m.\u001b[39marray(degree)\u001b[38;5;241m+\u001b[39m\u001b[38;5;241m1\u001b[39m, fit_method\u001b[38;5;241m=\u001b[39m\u001b[38;5;124m'\u001b[39m\u001b[38;5;124mKS\u001b[39m\u001b[38;5;124m'\u001b[39m)\u001b[38;5;66;03m#, xmin=xmin, xmax=max(degree)-xmin,discrete=True)\u001b[39;00m\n\u001b[1;32m     34\u001b[0m fig \u001b[38;5;241m=\u001b[39m plt\u001b[38;5;241m.\u001b[39mfigure(figsize\u001b[38;5;241m=\u001b[39m(\u001b[38;5;241m16\u001b[39m, \u001b[38;5;241m6\u001b[39m)) \n",
      "File \u001b[0;32m<__array_function__ internals>:180\u001b[0m, in \u001b[0;36mbincount\u001b[0;34m(*args, **kwargs)\u001b[0m\n",
      "\u001b[0;31mTypeError\u001b[0m: Cannot cast array data from dtype('float64') to dtype('int64') according to the rule 'safe'"
     ]
    }
   ],
   "source": [
    "plot_dist(g)"
   ]
  },
  {
   "cell_type": "code",
   "execution_count": null,
   "metadata": {
    "colab": {
     "base_uri": "https://localhost:8080/"
    },
    "id": "9Zt4bh2-PEgv",
    "outputId": "7973eaa2-a0da-460d-c93c-a89695d51384"
   },
   "outputs": [],
   "source": [
    "# nodi con più alta degree distribution\n",
    "dict_items = degree.items()\n",
    "\n",
    "top10_degree = list(degree)[:10]\n",
    "for i in top10_degree:\n",
    "    print(degree[i], i)"
   ]
  },
  {
   "cell_type": "code",
   "execution_count": null,
   "metadata": {
    "colab": {
     "base_uri": "https://localhost:8080/"
    },
    "id": "VxXIx5WRPYIZ",
    "outputId": "a0e1c1eb-8652-4c9c-84f1-70f4870f7713"
   },
   "outputs": [],
   "source": [
    "# top 10 nodi in degree distribution\n",
    "top_indegree = sorted(g_dir.in_degree(),\n",
    "reverse=True, key=itemgetter(1))[:10]\n",
    "print(\"\\n\".join(map(lambda t: \"{} {}\".format(*reversed(t)), top_indegree)))"
   ]
  },
  {
   "cell_type": "code",
   "execution_count": null,
   "metadata": {
    "colab": {
     "base_uri": "https://localhost:8080/"
    },
    "id": "P9lgIdOaPdCa",
    "outputId": "0351506d-fa4f-4025-c027-5bd632860ab4"
   },
   "outputs": [],
   "source": [
    "# top 10 nodi out degree distribution\n",
    "top_outdegree = sorted(g_dir.out_degree(),\n",
    "reverse=True, key=itemgetter(1))[:10]\n",
    "print(\"\\n\".join(map(lambda t: \"{} {}\".format(*reversed(t)), top_outdegree)))"
   ]
  },
  {
   "cell_type": "markdown",
   "metadata": {
    "id": "pQVe34HQPohM"
   },
   "source": [
    "# Connected Components"
   ]
  },
  {
   "cell_type": "code",
   "execution_count": null,
   "metadata": {
    "colab": {
     "base_uri": "https://localhost:8080/"
    },
    "id": "ufr-yK8rPp0G",
    "outputId": "3173a707-044d-413c-a9b5-0ef7f95827bf"
   },
   "outputs": [],
   "source": [
    "comps = list(nx.connected_components(g.to_undirected()))\n",
    "print(\"Number of connected components: \", len(comps))"
   ]
  },
  {
   "cell_type": "code",
   "execution_count": null,
   "metadata": {
    "id": "VGjjZF1VPtNc"
   },
   "outputs": [],
   "source": [
    "comps_sorted = sorted(comps, key=len, reverse = True)"
   ]
  },
  {
   "cell_type": "code",
   "execution_count": null,
   "metadata": {
    "colab": {
     "base_uri": "https://localhost:8080/"
    },
    "id": "G2eTQpzKPvMk",
    "outputId": "62e4e5b6-7dd9-45ff-96e6-3c1fa405ed24"
   },
   "outputs": [],
   "source": [
    "print(\"Number of users in the biggest connected component: \", len(max(comps_sorted)))"
   ]
  },
  {
   "cell_type": "code",
   "execution_count": null,
   "metadata": {
    "colab": {
     "base_uri": "https://localhost:8080/"
    },
    "id": "Ivu9TcqQPxNq",
    "outputId": "02ecccde-4672-4844-e42a-4e925d464571"
   },
   "outputs": [],
   "source": [
    "print(\"Number of users in the biggest connected component: \", len(comps_sorted[0]))"
   ]
  },
  {
   "cell_type": "code",
   "execution_count": null,
   "metadata": {
    "id": "lYW6Q0RmP3Wc"
   },
   "outputs": [],
   "source": [
    "biggest_comp = nx.Graph()\n",
    "biggest_comp_cc = nx.subgraph(g, comps_sorted[0]) "
   ]
  },
  {
   "cell_type": "code",
   "execution_count": null,
   "metadata": {
    "id": "XzuXMjkDP8Pw"
   },
   "outputs": [],
   "source": [
    "nx.write_gexf(biggest_comp, \"biggest_comp_cc.gexf\") #write graph of sampled biggest component"
   ]
  },
  {
   "cell_type": "markdown",
   "metadata": {
    "id": "_KoqyXlXP84n"
   },
   "source": [
    "# Ego Network"
   ]
  },
  {
   "cell_type": "code",
   "execution_count": null,
   "metadata": {
    "colab": {
     "base_uri": "https://localhost:8080/",
     "height": 886
    },
    "id": "a5dI4SKDQdqw",
    "outputId": "fa803d9f-6ef7-49c8-8720-9f6fb8aaf6e7"
   },
   "outputs": [],
   "source": [
    "# find node with 10th largest degree\n",
    "node_and_degree = g.degree()\n",
    "(largest_hub, degree) = sorted(node_and_degree, key=itemgetter(1))[-10]\n",
    "\n",
    "hub_ego = nx.ego_graph(g, largest_hub) #build ego-graph of the node\n",
    "plt.figure(figsize=(15,15))\n",
    "# Draw graph\n",
    "pos = nx.spring_layout(hub_ego, seed=42)  # Seed layout for reproducibility\n",
    "g_ego = nx.draw(hub_ego, pos, node_color=\"b\", node_size=1, with_labels=Flase)\n",
    "\n",
    "options = {\"node_size\": 30, \"node_color\": \"r\", }\n",
    "nx.draw_networkx_nodes(hub_ego, pos, nodelist=[largest_hub], **options)\n",
    "plt.show()\n",
    "\n",
    "nx.write_graphml(g_ego, \"ego_net\")"
   ]
  },
  {
   "cell_type": "code",
   "execution_count": null,
   "metadata": {
    "id": "bDyUPhk6SKsT"
   },
   "outputs": [],
   "source": [
    "weakly_connected_comp = sorted(nx.weakly_connected_components(g_dir), reverse=True) \n",
    "#the portion of a directed graph in which there is a path from each vertex to another vertex\n",
    "strongly_connected_comp = sorted(nx.strongly_connected_components(g_dir), reverse=True)"
   ]
  },
  {
   "cell_type": "code",
   "execution_count": null,
   "metadata": {
    "colab": {
     "base_uri": "https://localhost:8080/"
    },
    "id": "IhU4WXL7SSC6",
    "outputId": "22379ee7-40c0-4883-c3ed-4e3a4e38bb96"
   },
   "outputs": [],
   "source": [
    "# strongly connected component with the property that a random walker on the graph will never leave the component, once it enters the component.\n",
    "len(sorted(nx.attracting_components(g_dir), reverse=True))"
   ]
  },
  {
   "cell_type": "code",
   "execution_count": null,
   "metadata": {
    "colab": {
     "base_uri": "https://localhost:8080/"
    },
    "id": "Vi_JZQlESWGK",
    "outputId": "7cc0b937-9506-4a9a-a2f4-09de3fc80163"
   },
   "outputs": [],
   "source": [
    "len(strongly_connected_comp)"
   ]
  },
  {
   "cell_type": "markdown",
   "metadata": {
    "id": "Om-ODl-ESny_"
   },
   "source": [
    "# Path Analysis"
   ]
  },
  {
   "cell_type": "code",
   "execution_count": 56,
   "metadata": {
    "id": "dtwQpdj_Sp8s"
   },
   "outputs": [],
   "source": [
    "def clust_coeff_density_info(g):\n",
    "    print(\"Average clustering coeff: \", nx.average_clustering(g))\n",
    "    print(\"Density': \", nx.density(g))"
   ]
  },
  {
   "cell_type": "code",
   "execution_count": 57,
   "metadata": {
    "colab": {
     "base_uri": "https://localhost:8080/"
    },
    "id": "SV7j1OK_SsOd",
    "outputId": "04e97340-b16b-4f40-c0c1-828730b3a978"
   },
   "outputs": [
    {
     "name": "stdout",
     "output_type": "stream",
     "text": [
      "Average clustering coeff:  0.07778606428202861\n",
      "Density':  7.977668053976517e-05\n"
     ]
    }
   ],
   "source": [
    "clust_coeff_density_info(g_cc)"
   ]
  },
  {
   "cell_type": "code",
   "execution_count": 58,
   "metadata": {
    "colab": {
     "base_uri": "https://localhost:8080/",
     "height": 353
    },
    "id": "q4u2G6aiSuWb",
    "outputId": "a55d66f4-7ba9-4d13-b746-5ad11e0347fd"
   },
   "outputs": [
    {
     "data": {
      "image/png": "[encoded data removed]",
      "text/plain": [
       "<Figure size 720x360 with 1 Axes>"
      ]
     },
     "metadata": {
      "needs_background": "light"
     },
     "output_type": "display_data"
    }
   ],
   "source": [
    "#distribution of clustering coeffient based on the degree k of the node\n",
    "degrees = g_cc.degree()\n",
    "\n",
    "y = []\n",
    "x = []\n",
    "\n",
    "for degree in degrees:\n",
    "    node = degree[0]\n",
    "    degree = degree[1]\n",
    "    local_clustering_coefficient = nx.clustering(g_cc,node) #calculate local clustering coefficient\n",
    "    y.append(local_clustering_coefficient)\n",
    "    x.append(degree)\n",
    "\n",
    "    \n",
    "plt.figure(figsize=(10,5))\n",
    "plt.scatter(x, y,s=5)\n",
    "#plt.markersize('5')\n",
    "plt.xscale('log')\n",
    "plt.xlabel(\"k\")\n",
    "plt.ylabel(\"C(k)\")\n",
    "plt.title(\"Clustering coefficient\")\n",
    "plt.savefig('cluster_coefficient_distribution.pdf',format='pdf')\n",
    "\n",
    "plt.show()"
   ]
  },
  {
   "cell_type": "markdown",
   "metadata": {
    "id": "vTEF04ELS87-"
   },
   "source": [
    "# Centrality Analysis"
   ]
  },
  {
   "cell_type": "markdown",
   "metadata": {
    "id": "hqQW840fTH0r"
   },
   "source": [
    "## Degree Centrality"
   ]
  },
  {
   "cell_type": "code",
   "execution_count": null,
   "metadata": {
    "id": "waia7QuJS-LX"
   },
   "outputs": [],
   "source": [
    "degrees = dict(g.degree())"
   ]
  },
  {
   "cell_type": "code",
   "execution_count": null,
   "metadata": {
    "id": "qADU92HwTnyI"
   },
   "outputs": [],
   "source": [
    "ranks = [(k, v) for k, v in sorted(degrees.items(), key=lambda item: -item[1])]\n"
   ]
  },
  {
   "cell_type": "code",
   "execution_count": null,
   "metadata": {
    "id": "DE1rhuIaTpjL"
   },
   "outputs": [],
   "source": [
    "def plot_barplot(l, n = 10):\n",
    "    '''l = list'''\n",
    "    label = list(zip(*l))[0]\n",
    "    label_top = label[:n]\n",
    "    score = list(zip(*l))[1]\n",
    "    score_top = score[:n]\n",
    "    plt.figure(figsize=(16,7))\n",
    "    x_pos = np.arange(len(label_top)) \n",
    "    plt.bar(x_pos, score_top)\n",
    "    plt.xlabel(\"Twitter users\")\n",
    "    plt.xticks(x_pos, label_top, rotation = 15, fontsize=10) \n",
    "    plt.ylabel('Popularity Score', fontsize = 10)\n",
    "    plt.show()"
   ]
  },
  {
   "cell_type": "code",
   "execution_count": null,
   "metadata": {
    "colab": {
     "base_uri": "https://localhost:8080/",
     "height": 422
    },
    "id": "nRAqG1WfTv_g",
    "outputId": "602a39a1-7dd1-44b6-f337-2c9b692891ac"
   },
   "outputs": [],
   "source": [
    "plot_barplot(ranks)"
   ]
  },
  {
   "cell_type": "markdown",
   "metadata": {
    "id": "sUQfaClxUiZF"
   },
   "source": [
    "## Closeness Centrality"
   ]
  },
  {
   "cell_type": "code",
   "execution_count": null,
   "metadata": {
    "id": "TV7C-8buUjyK"
   },
   "outputs": [],
   "source": [
    "closeness = nx.closeness_centrality(g)"
   ]
  },
  {
   "cell_type": "code",
   "execution_count": null,
   "metadata": {
    "id": "R9XbQClgUl6t"
   },
   "outputs": [],
   "source": [
    "ranks_cc = [(k, v) for k, v in sorted(closeness.items(), key=lambda item: -item[1])]"
   ]
  },
  {
   "cell_type": "code",
   "execution_count": null,
   "metadata": {
    "colab": {
     "base_uri": "https://localhost:8080/",
     "height": 426
    },
    "id": "GvKCjuB4UoUN",
    "outputId": "e1be68db-ff51-4dc6-9bd9-0e5226655fd2"
   },
   "outputs": [],
   "source": [
    "plot_barplot(ranks_cc, 10)"
   ]
  },
  {
   "cell_type": "markdown",
   "metadata": {
    "id": "28kc6bkrUzAJ"
   },
   "source": [
    "## Between Centrality"
   ]
  },
  {
   "cell_type": "code",
   "execution_count": null,
   "metadata": {},
   "outputs": [],
   "source": [
    "#sampled graph for speedup time\n",
    "sampled_nodes = random.sample(g.nodes, 15000)\n",
    "sampled_graph = g.subgraph(sampled_nodes)"
   ]
  },
  {
   "cell_type": "code",
   "execution_count": null,
   "metadata": {},
   "outputs": [],
   "source": [
    "g_cc = nx.Graph(sampled_graph)"
   ]
  },
  {
   "cell_type": "code",
   "execution_count": null,
   "metadata": {
    "colab": {
     "base_uri": "https://localhost:8080/",
     "height": 328
    },
    "id": "dczog6HkU0rf",
    "outputId": "cea1211d-54c0-4649-885f-e9897d0a5afb"
   },
   "outputs": [],
   "source": [
    "betweenness = nx.betweenness_centrality(g_cc)"
   ]
  },
  {
   "cell_type": "code",
   "execution_count": null,
   "metadata": {
    "id": "y0nB1IEFU46s"
   },
   "outputs": [],
   "source": [
    "ranks_b = [(k, v) for k, v in sorted(betweenness.items(), key=lambda item: -item[1])]"
   ]
  },
  {
   "cell_type": "code",
   "execution_count": null,
   "metadata": {
    "id": "cCmvqA9kU63q"
   },
   "outputs": [],
   "source": [
    "plot_barplot(ranks_b, 15)"
   ]
  },
  {
   "cell_type": "markdown",
   "metadata": {
    "id": "iEFfGkYpVAuN"
   },
   "source": [
    "## Harmonic Centrality"
   ]
  },
  {
   "cell_type": "code",
   "execution_count": null,
   "metadata": {
    "id": "dwDmr7_nU_Pk"
   },
   "outputs": [],
   "source": [
    "#g = nx.from_pandas_edgelist(df, source=\"source\", target = \"target\", create_using=nx.MultiDiGraph())\n",
    "g_cc = nx.Graph(g)\n",
    "\n",
    "\n",
    "harmonic = nx.harmonic_centrality(g_cc)\n",
    "\n",
    "ranks_harmonic = [(k, v) for k, v in sorted(harmonic.items(), key=lambda item: -item[1])]\n",
    "\n",
    "plot_barplot(ranks_harmonic, 10)"
   ]
  },
  {
   "cell_type": "markdown",
   "metadata": {
    "id": "jZz3AX9zVMZx"
   },
   "source": [
    "## PageRank"
   ]
  },
  {
   "cell_type": "code",
   "execution_count": null,
   "metadata": {
    "id": "MKkya60oVKoU"
   },
   "outputs": [],
   "source": [
    "pagerank = nx.pagerank(g_cc)\n",
    "\n",
    "ranks_pr = [(k, v) for k, v in sorted(pagerank.items(), key=lambda item: -item[1])]\n",
    "\n",
    "plot_barplot(ranks_pr, 10)"
   ]
  },
  {
   "cell_type": "markdown",
   "metadata": {
    "id": "IJM_94hnVUPs"
   },
   "source": [
    "## Eigenvector"
   ]
  },
  {
   "cell_type": "code",
   "execution_count": null,
   "metadata": {
    "id": "_K_UziMDVSn3"
   },
   "outputs": [],
   "source": [
    "g = nx.Graph(g)\n",
    "\n",
    "eigen = nx.eigenvector_centrality_numpy(g.to_undirected())\n",
    "\n",
    "ranks_ev = [(k, v) for k, v in sorted(eigen.items(), key=lambda item: -item[1])]\n",
    "\n",
    "plot_barplot(ranks_ev, 10)"
   ]
  },
  {
   "cell_type": "markdown",
   "metadata": {
    "id": "X4Hh2i6_VdNk"
   },
   "source": [
    "# Assortativity"
   ]
  },
  {
   "cell_type": "code",
   "execution_count": 59,
   "metadata": {
    "colab": {
     "base_uri": "https://localhost:8080/",
     "height": 367
    },
    "id": "e4wY7pZIVaDR",
    "outputId": "22e91f42-93f5-4c9d-d74e-91b8377bede5"
   },
   "outputs": [
    {
     "data": {
      "image/png": "[encoded data removed]",
      "text/plain": [
       "<Figure size 720x360 with 1 Axes>"
      ]
     },
     "metadata": {
      "needs_background": "light"
     },
     "output_type": "display_data"
    }
   ],
   "source": [
    "from random import sample\n",
    "\n",
    "\n",
    "G = g.to_undirected().copy()\n",
    "\n",
    "conn_comps = sorted(nx.connected_components(G), key=len, reverse=True) \n",
    "#keep only biggest component and sample graph for speedup computation time\n",
    "\n",
    "G.remove_nodes_from([n for n in G if n not in set(conn_comps[0])])\n",
    "sampled_nodes = sample(G.nodes, 25000)  \n",
    "\n",
    "G.remove_nodes_from([n for n in G if n not in set(sampled_nodes)])\n",
    "\n",
    "\n",
    "\n",
    "conn_comps_sample = sorted(nx.connected_components(G), key=len, reverse=True)\n",
    "\n",
    "#keep only giant component\n",
    "G.remove_nodes_from([n for n in G if n not in set(conn_comps_sample[0])]) \n",
    "\n",
    "nx.degree_assortativity_coefficient(G)\n",
    "\n",
    "knn = nx.k_nearest_neighbors(G) #calculate the average nearest neighbor degree of nodes with degree k.\n",
    "\n",
    "knn = dict(sorted(knn.items()))\n",
    "\n",
    "plt.figure(figsize=(10,5))\n",
    "\n",
    "\n",
    "\n",
    "plt.plot(list(knn.keys()), list(knn.values()), '.', ms=10, alpha=0.8)\n",
    "\n",
    "plt.xlabel(\"k\", fontsize=20)\n",
    "\n",
    "plt.ylabel(\"k_nn(k)\",fontsize=18)\n",
    "\n",
    "plt.xticks(fontsize=15)\n",
    "plt.xscale('log')\n",
    "\n",
    "plt.yticks(fontsize=15)\n",
    "\n",
    "plt.title(\"Assortativity\")\n",
    "plt.savefig('assortativity.pdf',format='pdf')\n",
    "\n",
    "\n",
    "plt.show()"
   ]
  },
  {
   "cell_type": "code",
   "execution_count": null,
   "metadata": {},
   "outputs": [],
   "source": [
    "#calculate degree assortativity coefficient\n",
    "r = nx.degree_assortativity_coefficient(G)\n",
    "\n",
    "print(f\"{r:3.1f}\")"
   ]
  }
 ],
 "metadata": {
  "colab": {
   "provenance": []
  },
  "kernelspec": {
   "display_name": "Python 3 (ipykernel)",
   "language": "python",
   "name": "python3"
  },
  "language_info": {
   "codemirror_mode": {
    "name": "ipython",
    "version": 3
   },
   "file_extension": ".py",
   "mimetype": "text/x-python",
   "name": "python",
   "nbconvert_exporter": "python",
   "pygments_lexer": "ipython3",
   "version": "3.9.4"
  }
 },
 "nbformat": 4,
 "nbformat_minor": 1
}
